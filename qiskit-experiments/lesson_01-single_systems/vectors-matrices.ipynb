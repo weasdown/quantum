{
 "cells": [
  {
   "cell_type": "markdown",
   "id": "9a74b9cf",
   "metadata": {},
   "source": [
    "Firstly, import the relevant libraries."
   ]
  },
  {
   "cell_type": "code",
   "execution_count": 2,
   "id": "e702b7c0",
   "metadata": {},
   "outputs": [],
   "source": [
    "import numpy as np\n",
    "from IPython.display import display\n",
    "from qiskit.visualization import array_to_latex\n"
   ]
  },
  {
   "cell_type": "markdown",
   "id": "f0bbf280",
   "metadata": {},
   "source": [
    "Define the standard basis kets and some matrices. "
   ]
  },
  {
   "cell_type": "code",
   "execution_count": 3,
   "id": "70837839",
   "metadata": {},
   "outputs": [],
   "source": [
    "ket0 = np.array([[1], [0]])\n",
    "ket1 = np.array([[0], [1]])\n",
    "\n",
    "M1 = np.array([[1, 1], [0, 0]])\n",
    "M2 = np.array([[1, 0], [0, 1]])\n",
    "M = M1 / 2 + M2 / 2"
   ]
  },
  {
   "cell_type": "markdown",
   "id": "4c676dad",
   "metadata": {},
   "source": [
    "Then display the matrices using Qiskit's LaTeX formatter."
   ]
  },
  {
   "cell_type": "code",
   "execution_count": 9,
   "id": "b38f1d77",
   "metadata": {},
   "outputs": [
    {
     "name": "stdout",
     "output_type": "stream",
     "text": [
      "M1 times ket1:\n"
     ]
    },
    {
     "data": {
      "text/latex": [
       "$$\n",
       "\n",
       "\\begin{bmatrix}\n",
       "1  \\\\\n",
       " 0  \\\\\n",
       " \\end{bmatrix}\n",
       "$$"
      ],
      "text/plain": [
       "<IPython.core.display.Latex object>"
      ]
     },
     "metadata": {},
     "output_type": "display_data"
    },
    {
     "name": "stdout",
     "output_type": "stream",
     "text": [
      "M1 times M2:\n"
     ]
    },
    {
     "data": {
      "text/latex": [
       "$$\n",
       "\n",
       "\\begin{bmatrix}\n",
       "1 & 1  \\\\\n",
       " 0 & 0  \\\\\n",
       " \\end{bmatrix}\n",
       "$$"
      ],
      "text/plain": [
       "<IPython.core.display.Latex object>"
      ]
     },
     "metadata": {},
     "output_type": "display_data"
    },
    {
     "name": "stdout",
     "output_type": "stream",
     "text": [
      "M squared:\n"
     ]
    },
    {
     "data": {
      "text/latex": [
       "$$\n",
       "\n",
       "\\begin{bmatrix}\n",
       "1 & \\frac{3}{4}  \\\\\n",
       " 0 & \\frac{1}{4}  \\\\\n",
       " \\end{bmatrix}\n",
       "$$"
      ],
      "text/plain": [
       "<IPython.core.display.Latex object>"
      ]
     },
     "metadata": {},
     "output_type": "display_data"
    }
   ],
   "source": [
    "print(f'M1 times ket1:')\n",
    "display(array_to_latex(np.matmul(M1, ket1)))\n",
    "\n",
    "print(f'M1 times M2:')\n",
    "display(array_to_latex(np.matmul(M1, M2)))\n",
    "\n",
    "print(f'M squared:')\n",
    "display(array_to_latex(np.matmul(M, M)))"
   ]
  }
 ],
 "metadata": {
  "kernelspec": {
   "display_name": ".venv313",
   "language": "python",
   "name": "python3"
  },
  "language_info": {
   "codemirror_mode": {
    "name": "ipython",
    "version": 3
   },
   "file_extension": ".py",
   "mimetype": "text/x-python",
   "name": "python",
   "nbconvert_exporter": "python",
   "pygments_lexer": "ipython3",
   "version": "3.13.2"
  }
 },
 "nbformat": 4,
 "nbformat_minor": 5
}
