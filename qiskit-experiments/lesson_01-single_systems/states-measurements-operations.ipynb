{
 "cells": [
  {
   "cell_type": "markdown",
   "id": "1501b759",
   "metadata": {},
   "source": [
    "This notebook demonstrates how to simulate quantum states, measurements and operations in Qiskit. It follows [the tutorial](https://learning.quantum.ibm.com/course/basics-of-quantum-information/single-systems#states-measurements-and-operations) at the end of [Lesson 01 (Single Systems)](https://learning.quantum.ibm.com/course/basics-of-quantum-information/single-systems)."
   ]
  },
  {
   "cell_type": "markdown",
   "id": "bc22ccd6",
   "metadata": {},
   "source": [
    "## State vectors"
   ]
  },
  {
   "cell_type": "markdown",
   "id": "901b9b78",
   "metadata": {},
   "source": [
    "We can create quantum state vectors easily using Qiskit's `Statevector` class."
   ]
  },
  {
   "cell_type": "code",
   "execution_count": null,
   "id": "1df25f9b",
   "metadata": {},
   "outputs": [],
   "source": [
    "from qiskit.quantum_info import Statevector\n",
    "from numpy import sqrt\n",
    "\n",
    "u = Statevector([1 / sqrt(2), 1 / sqrt(2)])  # (This is the |+⟩ ('ket plus') state vector.)\n",
    "v = Statevector([(1 + 2.0j) / 3, -2 / 3])\n",
    "w = Statevector([1 / 3, 2 / 3])"
   ]
  },
  {
   "cell_type": "markdown",
   "id": "4cc93fa4",
   "metadata": {},
   "source": [
    "We can display these state vectors as a single line, in more easily readable LaTeX format, or as LaTeX source code. For example, we can display the `u` state vector in all three ways:"
   ]
  },
  {
   "cell_type": "code",
   "execution_count": null,
   "id": "facde55a",
   "metadata": {},
   "outputs": [],
   "source": [
    "display(u.draw(\"text\"))\n",
    "display(u.draw(\"latex\"))\n",
    "print(u.draw(\"latex_source\"))"
   ]
  },
  {
   "cell_type": "markdown",
   "id": "dd00190c",
   "metadata": {},
   "source": [
    "We can also check whether a state vector is valid by calling the `Statevector.is_valid()` method on it. Remember that the criterion for a state vector to be valid is that its Euclidean norm equals 1."
   ]
  },
  {
   "cell_type": "code",
   "execution_count": null,
   "id": "f26ee88e",
   "metadata": {},
   "outputs": [],
   "source": [
    "display(u.is_valid())  # u is a valid state vector\n",
    "display(w.is_valid())  # w is not a valid state vector"
   ]
  },
  {
   "cell_type": "markdown",
   "id": "89114192",
   "metadata": {},
   "source": [
    "## Measurements"
   ]
  },
  {
   "cell_type": "markdown",
   "id": "08aaa1f8",
   "metadata": {},
   "source": [
    "We can use the `Statevector.measure()` method to perform a measurement on a state vector. For example, for the state vector `v` that we defined previously,"
   ]
  },
  {
   "cell_type": "code",
   "execution_count": null,
   "id": "f589b07d",
   "metadata": {},
   "outputs": [],
   "source": [
    "display(v.draw(\"latex\"))"
   ]
  },
  {
   "cell_type": "markdown",
   "id": "32a4ca67",
   "metadata": {},
   "source": [
    "we can measure it as follows:"
   ]
  },
  {
   "cell_type": "code",
   "execution_count": null,
   "id": "eeed76b8",
   "metadata": {},
   "outputs": [],
   "source": [
    "outcome, state = v.measure()\n",
    "print(f\"Measured: {outcome}\\nPost-measurement state:\")\n",
    "display(state.draw(\"latex\"))"
   ]
  },
  {
   "cell_type": "markdown",
   "id": "27fe68fe",
   "metadata": {},
   "source": [
    "Note that, because measurement outcomes are probabilistic, the `measure()` method can return different results when run multiple times. You can see this for yourself by running the code cell above a few times. The output is either $$(\\frac{\\sqrt{5}}{5} + \\frac{2 \\sqrt{5} i}{5}) |0\\rangle$$ or $$|1\\rangle$$\n",
    "\n",
    "We can also use the `sample_counts()` method on `Statevector` to run a measurement multiple times to show how the output is probabilistic. We can then plot the results of these runs using `plot_histogram()` from Qiskit's `visualization` library:"
   ]
  },
  {
   "cell_type": "code",
   "execution_count": null,
   "id": "4cd49ddd",
   "metadata": {},
   "outputs": [],
   "source": [
    "from qiskit.visualization import plot_histogram\n",
    "\n",
    "statistics = v.sample_counts(1000)\n",
    "plot_histogram(statistics)"
   ]
  },
  {
   "cell_type": "markdown",
   "id": "9a43b969",
   "metadata": {},
   "source": [
    "## Operations"
   ]
  },
  {
   "cell_type": "markdown",
   "id": "bee8cc82",
   "metadata": {},
   "source": [
    "Unitary operations can be defined in Qiskit using the `Operator` class. This has a `draw()` method that's similar to `Statevector`'s."
   ]
  },
  {
   "cell_type": "code",
   "execution_count": null,
   "id": "9579c828",
   "metadata": {},
   "outputs": [],
   "source": [
    "from qiskit.quantum_info import Operator\n",
    "\n",
    "Y = Operator([[0, -1.0j], [1.0j, 0]])  # The Pauli Y operation (also known as sigma y).\n",
    "H = Operator([[1 / sqrt(2), 1 / sqrt(2)], [1 / sqrt(2), -1 / sqrt(2)]])  # The Hadamard operation.\n",
    "S = Operator([[1, 0], [0, 1.0j]])  # The P_π/2 phase operation.\n",
    "T = Operator([[1, 0], [0, (1 + 1.0j) / sqrt(2)]])  # The P_π/4 phase operation.\n",
    "\n",
    "display(T.draw(\"latex\"))"
   ]
  },
  {
   "cell_type": "markdown",
   "id": "95ca37da",
   "metadata": {},
   "source": [
    "We can apply a unitary operation to a state vector using the `Statevector.evolve()` method:"
   ]
  },
  {
   "cell_type": "code",
   "execution_count": null,
   "id": "2fc2da9f",
   "metadata": {},
   "outputs": [],
   "source": [
    "v = Statevector([1, 0])\n",
    "\n",
    "v = v.evolve(H)\n",
    "v = v.evolve(T)\n",
    "v = v.evolve(H)\n",
    "v = v.evolve(S)\n",
    "v = v.evolve(Y)\n",
    "\n",
    "display(v.draw(\"latex\"))"
   ]
  },
  {
   "cell_type": "markdown",
   "id": "7714c81f",
   "metadata": {},
   "source": [
    "### Basic quantum circuits\n",
    "Quantum circuits are introduced fully in [Lesson 03](https://www.youtube.com/watch?v=30U2DTfIrOU&list=PLOFEBzvs-VvqKKMXX4vbi4EB1uaErFMSO) but we can start to examine them here by composing unitary operations. To do this, we use Qiskit's `QuantumCircuit` class:"
   ]
  },
  {
   "cell_type": "code",
   "execution_count": null,
   "id": "05d7d362",
   "metadata": {},
   "outputs": [],
   "source": [
    "from qiskit import QuantumCircuit\n",
    "\n",
    "circuit = QuantumCircuit(1)  # 1 specifies that we are using a single qubit.\n",
    "\n",
    "# In the commands below, 0 specifies that we want to use the first available qubit (which in this case is also the only available one).\n",
    "circuit.h(0)\n",
    "circuit.t(0)\n",
    "circuit.h(0)\n",
    "circuit.s(0)\n",
    "circuit.y(0)\n",
    "\n",
    "display(circuit.draw(output=\"mpl\"))  # mpl specifies that we want to use Qiskit's matplotlib renderer."
   ]
  },
  {
   "cell_type": "markdown",
   "id": "d9d5e572",
   "metadata": {},
   "source": [
    "We can see the matrix representing the overall composition of the operations by using `Operator.from_circuit()`:"
   ]
  },
  {
   "cell_type": "code",
   "execution_count": null,
   "id": "7c6aa758",
   "metadata": {},
   "outputs": [],
   "source": [
    "display(Operator.from_circuit(circuit).draw(\"latex\"))"
   ]
  },
  {
   "cell_type": "markdown",
   "id": "83b6ccd5",
   "metadata": {},
   "source": [
    "A state vector can be fed into a quantum circuit by calling `evolve()` on the state vector, with the quantum circuit as the argument:"
   ]
  },
  {
   "cell_type": "code",
   "execution_count": null,
   "id": "d48d5ed6",
   "metadata": {},
   "outputs": [],
   "source": [
    "ket0 = Statevector([1, 0])\n",
    "v = ket0.evolve(circuit)\n",
    "display(v.draw(\"latex\"))"
   ]
  },
  {
   "cell_type": "markdown",
   "id": "d1f073a3",
   "metadata": {},
   "source": [
    "Plotting the output of this (in the same way as we did previously for a single measurement) gives the histogram below. Note that the result is still probabilistic, so the numbers above the histogram bars will change slightly on each run."
   ]
  },
  {
   "cell_type": "code",
   "execution_count": null,
   "id": "b539656e",
   "metadata": {},
   "outputs": [],
   "source": [
    "statistics = v.sample_counts(4000)\n",
    "display(plot_histogram(statistics))"
   ]
  }
 ],
 "metadata": {
  "kernelspec": {
   "display_name": ".venv313",
   "language": "python",
   "name": "python3"
  },
  "language_info": {
   "codemirror_mode": {
    "name": "ipython",
    "version": 3
   },
   "file_extension": ".py",
   "mimetype": "text/x-python",
   "name": "python",
   "nbconvert_exporter": "python",
   "pygments_lexer": "ipython3",
   "version": "3.13.2"
  }
 },
 "nbformat": 4,
 "nbformat_minor": 5
}
