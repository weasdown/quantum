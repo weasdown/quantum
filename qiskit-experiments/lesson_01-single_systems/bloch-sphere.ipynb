{
 "cells": [
  {
   "cell_type": "markdown",
   "id": "3349f438",
   "metadata": {},
   "source": [
    "# Bloch sphere"
   ]
  },
  {
   "cell_type": "markdown",
   "id": "fe00cc30",
   "metadata": {},
   "source": [
    "A [Bloch sphere](https://en.wikipedia.org/wiki/Bloch_sphere) is a way to visualise the possible states of a qubit."
   ]
  },
  {
   "cell_type": "code",
   "execution_count": null,
   "id": "2c02f578",
   "metadata": {},
   "outputs": [],
   "source": []
  }
 ],
 "metadata": {
  "language_info": {
   "name": "python"
  }
 },
 "nbformat": 4,
 "nbformat_minor": 5
}
