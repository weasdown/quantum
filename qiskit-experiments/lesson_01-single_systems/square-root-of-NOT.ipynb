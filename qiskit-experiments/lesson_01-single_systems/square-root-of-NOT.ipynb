{
 "cells": [
  {
   "cell_type": "markdown",
   "id": "21f63470",
   "metadata": {},
   "source": [
    "# Square root of NOT"
   ]
  },
  {
   "cell_type": "markdown",
   "id": "4a88b683",
   "metadata": {},
   "source": [
    "## $NOT$ (or $X$) operation"
   ]
  },
  {
   "cell_type": "markdown",
   "id": "5d0450a3",
   "metadata": {},
   "source": [
    "The qubit $NOT$ or $X$ operation is a Pauli operation defined as the transformation applied to a qubit state vector by following matrix. It is also known as the $\\sigma_x$ operation.\n",
    "\n",
    "$$X = \\begin{bmatrix}\n",
    "   0 & 1 \\\\\n",
    "   1 & 0\n",
    "\\end{bmatrix}$$\n",
    "\n",
    "We can create it in Qiskit like so:"
   ]
  },
  {
   "cell_type": "code",
   "execution_count": 19,
   "id": "d36d39da",
   "metadata": {},
   "outputs": [],
   "source": [
    "from qiskit.quantum_info import Operator\n",
    "\n",
    "X = Operator([[0, 1], [1, 0]])"
   ]
  },
  {
   "cell_type": "markdown",
   "id": "9d6b0bd5",
   "metadata": {},
   "source": [
    "Applying this to state vectors works in the same way as described in the Operations section of the [States, Measurement and Operations](states-measurements-operations.ipynb) tutorial."
   ]
  },
  {
   "cell_type": "code",
   "execution_count": 20,
   "id": "562fd67c",
   "metadata": {},
   "outputs": [
    {
     "data": {
      "text/latex": [
       "$$ |1\\rangle$$"
      ],
      "text/plain": [
       "<IPython.core.display.Latex object>"
      ]
     },
     "metadata": {},
     "output_type": "display_data"
    },
    {
     "data": {
      "text/latex": [
       "$$ |0\\rangle$$"
      ],
      "text/plain": [
       "<IPython.core.display.Latex object>"
      ]
     },
     "metadata": {},
     "output_type": "display_data"
    },
    {
     "data": {
      "text/latex": [
       "$$\\frac{\\sqrt{2}}{2} |0\\rangle+\\frac{\\sqrt{2}}{2} |1\\rangle$$"
      ],
      "text/plain": [
       "<IPython.core.display.Latex object>"
      ]
     },
     "metadata": {},
     "output_type": "display_data"
    },
    {
     "data": {
      "text/latex": [
       "$$- \\frac{\\sqrt{2}}{2} |0\\rangle+\\frac{\\sqrt{2}}{2} |1\\rangle$$"
      ],
      "text/plain": [
       "<IPython.core.display.Latex object>"
      ]
     },
     "metadata": {},
     "output_type": "display_data"
    }
   ],
   "source": [
    "from qiskit.quantum_info import Statevector\n",
    "from numpy import sqrt\n",
    "\n",
    "# Define common state vectors.\n",
    "ket_zero = Statevector([1, 0])                          # |0⟩\n",
    "ket_one = Statevector([0, 1])                           # |1⟩\n",
    "ket_plus = Statevector([1 / sqrt(2), 1 / sqrt(2)])      # |+⟩\n",
    "ket_minus = Statevector([1 / sqrt(2), - 1 / sqrt(2)])   # |-⟩\n",
    "\n",
    "X_ket_zero = ket_zero.evolve(X)                         # |0⟩ becomes |1⟩\n",
    "X_ket_one = ket_one.evolve(X)                           # |1⟩ becomes |0⟩\n",
    "X_ket_plus = ket_plus.evolve(X)                         # |+⟩ stays as |+⟩\n",
    "X_ket_minus = ket_minus.evolve(X)                       # |-⟩ becomes -|-⟩\n",
    "\n",
    "display(X_ket_zero.draw('latex'))\n",
    "display(X_ket_one.draw('latex'))\n",
    "display(X_ket_plus.draw('latex'))\n",
    "display(X_ket_minus.draw('latex'))"
   ]
  },
  {
   "cell_type": "markdown",
   "id": "5aba9066",
   "metadata": {},
   "source": [
    "The results are therefore as follows, treating each state vector as an input $\\ket{\\psi}$:\n",
    "\n",
    "| $\\ket{\\psi}$ | $\\bold{X(\\ket{\\psi})}$ |\n",
    "|-----------|-----------|\n",
    "| $\\ket{0}$ | $\\ket{1}$ |\n",
    "| $\\ket{1}$ | $\\ket{0}$ |\n",
    "| $\\ket{+}$ | $\\ket{+}$ |\n",
    "| $\\ket{-}$ | $-\\ket{-}$ |"
   ]
  },
  {
   "cell_type": "markdown",
   "id": "a5c5f63a",
   "metadata": {},
   "source": [
    "## Hadamard operation"
   ]
  },
  {
   "cell_type": "markdown",
   "id": "1172a80b",
   "metadata": {},
   "source": [
    "The [Hadamard operation][H] (or gate), $H$, is defined by the matrix:\n",
    "\n",
    "$$H = \\frac{1}{\\sqrt{2}}\\begin{bmatrix}\n",
    "   1 & 1 \\\\\n",
    "   1 & -1\n",
    "\\end{bmatrix}$$\n",
    "\n",
    "$$ = \\begin{bmatrix}\n",
    "   \\frac{1}{\\sqrt{2}} & \\frac{1}{\\sqrt{2}} \\\\\n",
    "   \\frac{1}{\\sqrt{2}} & \\frac{-1}{\\sqrt{2}}\n",
    "\\end{bmatrix}$$\n",
    "\n",
    "It performs a rotation of π of the state vector around the axis $(\\hat{x}+\\hat{z})/\\sqrt{2}$ at the [Bloch sphere].\n",
    "\n",
    "This is again easily implemented in Qiskit:\n",
    "\n",
    "[H]: https://en.wikipedia.org/wiki/Quantum_logic_gate#Hadamard_gate\n",
    "[Bloch sphere]: https://en.wikipedia.org/wiki/Bloch_sphere"
   ]
  },
  {
   "cell_type": "code",
   "execution_count": 21,
   "id": "e293c3e9",
   "metadata": {},
   "outputs": [
    {
     "data": {
      "text/latex": [
       "$$\n",
       "\n",
       "\\begin{bmatrix}\n",
       "\\frac{\\sqrt{2}}{2} & \\frac{\\sqrt{2}}{2}  \\\\\n",
       " \\frac{\\sqrt{2}}{2} & - \\frac{\\sqrt{2}}{2}  \\\\\n",
       " \\end{bmatrix}\n",
       "$$"
      ],
      "text/plain": [
       "<IPython.core.display.Latex object>"
      ]
     },
     "metadata": {},
     "output_type": "display_data"
    }
   ],
   "source": [
    "H = 1/sqrt(2) * Operator([[1, 1], [1, -1]])\n",
    "display(H.draw('latex'))"
   ]
  },
  {
   "cell_type": "markdown",
   "id": "88798bea",
   "metadata": {},
   "source": [
    "If we apply $H$ to the state vectors defined previously, we get the outputs in the table below.\n",
    "\n",
    "| $\\ket{\\psi}$ | $\\bold{H(\\ket{\\psi})}$ |\n",
    "|-----------|-----------|\n",
    "| $\\ket{0}$ | $\\ket{+}$ |\n",
    "| $\\ket{1}$ | $\\ket{-}$ |\n",
    "| $\\ket{+}$ | $\\ket{0}$ |\n",
    "| $\\ket{-}$ | $-\\ket{1}$ |"
   ]
  },
  {
   "cell_type": "markdown",
   "id": "c5392109",
   "metadata": {},
   "source": [
    "## $S$ operation"
   ]
  },
  {
   "cell_type": "markdown",
   "id": "e2d12b96",
   "metadata": {},
   "source": [
    "The S operation (or gate), $S$, is a [phase shift gate](https://en.wikipedia.org/wiki/Quantum_logic_gate#Phase_shift_gates) with a phase shift of $\\pi/2$. It therefore has the following matrix:\n",
    "\n",
    "$$S = \\begin{bmatrix}\n",
    "   1 & 0 \\\\\n",
    "   0 & i\n",
    "\\end{bmatrix}$$"
   ]
  },
  {
   "cell_type": "code",
   "execution_count": 22,
   "id": "e0d32e8d",
   "metadata": {},
   "outputs": [
    {
     "data": {
      "text/latex": [
       "$$\n",
       "\n",
       "\\begin{bmatrix}\n",
       "1 & 0  \\\\\n",
       " 0 & i  \\\\\n",
       " \\end{bmatrix}\n",
       "$$"
      ],
      "text/plain": [
       "<IPython.core.display.Latex object>"
      ]
     },
     "metadata": {},
     "output_type": "display_data"
    }
   ],
   "source": [
    "S = Operator([[1, 0], [0, 1.0j]])\n",
    "display(S.draw('latex'))"
   ]
  },
  {
   "cell_type": "markdown",
   "id": "06b94890",
   "metadata": {},
   "source": [
    "If we apply $S$ to the state vectors defined previously, we get the outputs in the table below.\n",
    "\n",
    "| $\\ket{\\psi}$ | $\\bold{S(\\ket{\\psi})}$ |\n",
    "|-----------|-----------|\n",
    "| $\\ket{0}$ | $\\ket{0}$ |\n",
    "| $\\ket{1}$ | $\\ket{1}$ |\n",
    "| $\\ket{+}$ | $\\frac{1}{\\sqrt{2}} \\begin{pmatrix} 1 \\\\ i \\end{pmatrix}$ |\n",
    "| $\\ket{-}$ | $\\frac{1}{\\sqrt{2}} \\begin{pmatrix} 1 \\\\ -i \\end{pmatrix}$ |"
   ]
  },
  {
   "cell_type": "markdown",
   "id": "bd9742da",
   "metadata": {},
   "source": [
    "## $HSH$ operation"
   ]
  },
  {
   "cell_type": "markdown",
   "id": "886c23bf",
   "metadata": {},
   "source": [
    "If we apply an $H$ operation, then an $S$, then another $H$, we get an operation that is defined as the matrix multiplication $HSH$. This is also known as the \"square root of $NOT$\", as will shortly become clear. The $HSH$ operation has the following matrix:\n",
    "\n",
    "$$ HSH = \\begin{bmatrix} % H\n",
    "   \\frac{1}{\\sqrt{2}} & \\frac{1}{\\sqrt{2}} \\\\\\\\\n",
    "   \\frac{1}{\\sqrt{2}} & \\frac{-1}{\\sqrt{2}}\n",
    "\\end{bmatrix}\n",
    "\n",
    "% S\n",
    "\\begin{bmatrix}\n",
    "   1 & 0 \\\\\\\\\n",
    "   0 & i\n",
    "\\end{bmatrix}\n",
    "\n",
    "% H\n",
    "\\begin{bmatrix}\n",
    "   \\frac{1}{\\sqrt{2}} & \\frac{1}{\\sqrt{2}} \\\\\\\\\n",
    "   \\frac{1}{\\sqrt{2}} & \\frac{-1}{\\sqrt{2}}\n",
    "\\end{bmatrix}\n",
    "\n",
    "% First result\n",
    "= \\begin{bmatrix}\n",
    "   \\frac{1 + i}{2} & \\frac{1 - i}{2} \\\\\\\\\n",
    "   \\frac{1 - i}{2} & \\frac{1 + i}{2}\n",
    "\\end{bmatrix}\n",
    "$$\n",
    "\n",
    "<!-- Take out a factor of 1/2 -->\n",
    "$$ = \\frac{1}{2}\\begin{bmatrix}\n",
    "   1 + i & 1 - i \\\\\\\\\n",
    "   1 - i & 1 + i\n",
    "\\end{bmatrix}\n",
    "$$"
   ]
  },
  {
   "cell_type": "code",
   "execution_count": 41,
   "id": "f37a9de4",
   "metadata": {},
   "outputs": [
    {
     "name": "stdout",
     "output_type": "stream",
     "text": [
      "S:\n"
     ]
    },
    {
     "data": {
      "text/latex": [
       "$$\n",
       "\n",
       "\\begin{bmatrix}\n",
       "1 & 0  \\\\\n",
       " 0 & i  \\\\\n",
       " \\end{bmatrix}\n",
       "$$"
      ],
      "text/plain": [
       "<IPython.core.display.Latex object>"
      ]
     },
     "metadata": {},
     "output_type": "display_data"
    },
    {
     "name": "stdout",
     "output_type": "stream",
     "text": [
      "H:\n"
     ]
    },
    {
     "data": {
      "text/latex": [
       "$$\n",
       "\n",
       "\\begin{bmatrix}\n",
       "\\frac{\\sqrt{2}}{2} & \\frac{\\sqrt{2}}{2}  \\\\\n",
       " \\frac{\\sqrt{2}}{2} & - \\frac{\\sqrt{2}}{2}  \\\\\n",
       " \\end{bmatrix}\n",
       "$$"
      ],
      "text/plain": [
       "<IPython.core.display.Latex object>"
      ]
     },
     "metadata": {},
     "output_type": "display_data"
    },
    {
     "name": "stdout",
     "output_type": "stream",
     "text": [
      "SH:\n"
     ]
    },
    {
     "data": {
      "text/latex": [
       "$$\n",
       "\n",
       "\\begin{bmatrix}\n",
       "\\frac{\\sqrt{2}}{2} & \\frac{\\sqrt{2}}{2}  \\\\\n",
       " \\frac{\\sqrt{2} i}{2} & - \\frac{\\sqrt{2} i}{2}  \\\\\n",
       " \\end{bmatrix}\n",
       "$$"
      ],
      "text/plain": [
       "<IPython.core.display.Latex object>"
      ]
     },
     "metadata": {},
     "output_type": "display_data"
    },
    {
     "name": "stdout",
     "output_type": "stream",
     "text": [
      "HSH:\n"
     ]
    },
    {
     "data": {
      "text/latex": [
       "$$\n",
       "\n",
       "\\begin{bmatrix}\n",
       "\\frac{1}{2} + \\frac{i}{2} & \\frac{1}{2} - \\frac{i}{2}  \\\\\n",
       " \\frac{1}{2} - \\frac{i}{2} & \\frac{1}{2} + \\frac{i}{2}  \\\\\n",
       " \\end{bmatrix}\n",
       "$$"
      ],
      "text/plain": [
       "<IPython.core.display.Latex object>"
      ]
     },
     "metadata": {},
     "output_type": "display_data"
    }
   ],
   "source": [
    "from numpy import matmul\n",
    "\n",
    "print('S:')\n",
    "display(S.draw('latex'))\n",
    "\n",
    "print('H:')\n",
    "display(H.draw('latex'))\n",
    "\n",
    "# Use the data attribute to get each Operator's numpy matrix.\n",
    "SH = Operator(matmul(S.data, H.data))\n",
    "print('SH:')\n",
    "display(SH.draw('latex'))\n",
    "\n",
    "HSH = Operator(matmul(H.data, SH))\n",
    "print('HSH:')\n",
    "display(HSH.draw('latex'))"
   ]
  },
  {
   "cell_type": "markdown",
   "id": "76e8b63c",
   "metadata": {},
   "source": [
    "We could alternatively program the $HSH$ operation by adding gates to a Qiskit `QuantumCircuit`:"
   ]
  },
  {
   "cell_type": "code",
   "execution_count": null,
   "id": "193e5d7a",
   "metadata": {},
   "outputs": [
    {
     "data": {
      "image/png": "[encoded data removed]",
      "text/plain": [
       "<Figure size 352.675x117.056 with 1 Axes>"
      ]
     },
     "metadata": {},
     "output_type": "display_data"
    }
   ],
   "source": [
    "from qiskit import QuantumCircuit\n",
    "\n",
    "circuit = QuantumCircuit(1)  # 1 specifies that we are using a single qubit.\n",
    "\n",
    "# In the commands below, 0 specifies that we want to use the first available qubit (which in this case is also the only available one).\n",
    "circuit.h(0)\n",
    "circuit.s(0)\n",
    "circuit.h(0)\n",
    "\n",
    "display(circuit.draw(output=\"mpl\"))  # mpl specifies that we want to use Qiskit's matplotlib renderer."
   ]
  },
  {
   "cell_type": "markdown",
   "id": "f0bd8b50",
   "metadata": {},
   "source": [
    "## $(HSH)^2$ operation\n",
    "If we square the $HSH$ operation found previously, to give $(HSH)^2$, we get the $NOT$ operation:\n",
    "\n",
    "$$ (HSH)^2 = \\Biggl( \\frac{1}{2}\\begin{bmatrix}\n",
    "    1 + i & 1 - i \\\\\\\\\n",
    "    1 - i & 1 + i\n",
    "\\end{bmatrix} \\Biggr)^2$$\n",
    "\n",
    "$$ = \\frac{1}{4} \\begin{bmatrix}\n",
    "    1 + i & 1 - i \\\\\n",
    "    1 - i & 1 + i\n",
    "\\end{bmatrix}^2 $$\n",
    "\n",
    "$$ = \\frac{1}{4} \\begin{bmatrix}\n",
    "    1 + i & 1 - i \\\\\n",
    "    1 - i & 1 + i\n",
    "\\end{bmatrix}\\begin{bmatrix}\n",
    "    1 + i & 1 - i \\\\\n",
    "    1 - i & 1 + i\n",
    "\\end{bmatrix} $$\n",
    "\n",
    "$$ = \\frac{1}{4} \\begin{bmatrix}\n",
    "    2i - 2i & 4 \\\\\n",
    "    4 & -2i + 2i\n",
    "\\end{bmatrix} $$\n",
    "\n",
    "$$ = \\begin{bmatrix}\n",
    "    0 & 1 \\\\\n",
    "    1 & 0\n",
    "\\end{bmatrix} $$\n",
    "\n",
    "$$ \\therefore (HSH)^2 = NOT $$\n",
    "\n",
    "This is why $HSH$ is referred to as the \"square root of $NOT$\" operation.\n",
    "\n",
    "We can show also this result by running $HSH$ and $(HSH)^2$ on the common state vectors defined previously.\n",
    "\n",
    "<!-- TODO add HSH and (HSH)^2 code examples and output table -->"
   ]
  },
  {
   "cell_type": "code",
   "execution_count": 47,
   "id": "fef6bc9c",
   "metadata": {},
   "outputs": [
    {
     "name": "stdout",
     "output_type": "stream",
     "text": [
      "HSH:\n"
     ]
    },
    {
     "data": {
      "text/latex": [
       "$$\n",
       "\n",
       "\\begin{bmatrix}\n",
       "\\frac{1}{2} + \\frac{i}{2} & \\frac{1}{2} - \\frac{i}{2}  \\\\\n",
       " \\frac{1}{2} - \\frac{i}{2} & \\frac{1}{2} + \\frac{i}{2}  \\\\\n",
       " \\end{bmatrix}\n",
       "$$"
      ],
      "text/plain": [
       "<IPython.core.display.Latex object>"
      ]
     },
     "metadata": {},
     "output_type": "display_data"
    },
    {
     "name": "stdout",
     "output_type": "stream",
     "text": [
      "HSH squared:\n"
     ]
    },
    {
     "data": {
      "text/latex": [
       "$$\n",
       "\n",
       "\\begin{bmatrix}\n",
       "0 & 1  \\\\\n",
       " 1 & 0  \\\\\n",
       " \\end{bmatrix}\n",
       "$$"
      ],
      "text/plain": [
       "<IPython.core.display.Latex object>"
      ]
     },
     "metadata": {},
     "output_type": "display_data"
    }
   ],
   "source": [
    "print('HSH:')\n",
    "display(HSH.draw('latex'))\n",
    "\n",
    "HSH_squared = Operator(matmul(HSH, HSH))\n",
    "print('HSH squared:')\n",
    "display(HSH_squared.draw('latex'))"
   ]
  }
 ],
 "metadata": {
  "kernelspec": {
   "display_name": ".venv313",
   "language": "python",
   "name": "python3"
  },
  "language_info": {
   "codemirror_mode": {
    "name": "ipython",
    "version": 3
   },
   "file_extension": ".py",
   "mimetype": "text/x-python",
   "name": "python",
   "nbconvert_exporter": "python",
   "pygments_lexer": "ipython3",
   "version": "3.13.2"
  }
 },
 "nbformat": 4,
 "nbformat_minor": 5
}
