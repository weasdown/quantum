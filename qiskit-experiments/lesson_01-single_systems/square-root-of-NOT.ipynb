{
 "cells": [
  {
   "cell_type": "markdown",
   "id": "21f63470",
   "metadata": {},
   "source": [
    "# Square root of NOT"
   ]
  },
  {
   "cell_type": "markdown",
   "id": "4a88b683",
   "metadata": {},
   "source": [
    "## NOT operation"
   ]
  },
  {
   "cell_type": "markdown",
   "id": "5d0450a3",
   "metadata": {},
   "source": [
    "The qubit NOT operation is a Pauli operation defined as the transformation applied to a qubit state vector by following matrix. It is also known as the X operation or σ<sub>x</sub> operation.\n",
    "\n",
    "$$\\begin{bmatrix}\n",
    "   0 & 1 \\\\\n",
    "   1 & 0\n",
    "\\end{bmatrix}$$\n",
    "\n",
    "We can create it in Qiskit like so:"
   ]
  },
  {
   "cell_type": "code",
   "execution_count": 1,
   "id": "d36d39da",
   "metadata": {},
   "outputs": [],
   "source": [
    "from qiskit.quantum_info import Operator\n",
    "\n",
    "X = Operator([[0, 1], [1, 0]])"
   ]
  },
  {
   "cell_type": "markdown",
   "id": "9d6b0bd5",
   "metadata": {},
   "source": [
    "Applying this to state vectors works in the same way as described in the Operations section of the [States, Measurement and Operations](states-measurements-operations.ipynb) tutorial."
   ]
  },
  {
   "cell_type": "code",
   "execution_count": 2,
   "id": "562fd67c",
   "metadata": {},
   "outputs": [
    {
     "data": {
      "text/latex": [
       "$$ |1\\rangle$$"
      ],
      "text/plain": [
       "<IPython.core.display.Latex object>"
      ]
     },
     "metadata": {},
     "output_type": "display_data"
    },
    {
     "data": {
      "text/latex": [
       "$$ |0\\rangle$$"
      ],
      "text/plain": [
       "<IPython.core.display.Latex object>"
      ]
     },
     "metadata": {},
     "output_type": "display_data"
    },
    {
     "data": {
      "text/latex": [
       "$$\\frac{\\sqrt{2}}{2} |0\\rangle+\\frac{\\sqrt{2}}{2} |1\\rangle$$"
      ],
      "text/plain": [
       "<IPython.core.display.Latex object>"
      ]
     },
     "metadata": {},
     "output_type": "display_data"
    },
    {
     "data": {
      "text/latex": [
       "$$- \\frac{\\sqrt{2}}{2} |0\\rangle+\\frac{\\sqrt{2}}{2} |1\\rangle$$"
      ],
      "text/plain": [
       "<IPython.core.display.Latex object>"
      ]
     },
     "metadata": {},
     "output_type": "display_data"
    }
   ],
   "source": [
    "from qiskit.quantum_info import Statevector\n",
    "from numpy import sqrt\n",
    "\n",
    "# Define common state vectors.\n",
    "ket_zero = Statevector([1, 0])                          # |0⟩\n",
    "ket_one = Statevector([0, 1])                           # |1⟩\n",
    "ket_plus = Statevector([1 / sqrt(2), 1 / sqrt(2)])      # |+⟩\n",
    "ket_minus = Statevector([1 / sqrt(2), - 1 / sqrt(2)])   # |-⟩\n",
    "\n",
    "X_ket_zero = ket_zero.evolve(X)                         # |0⟩ becomes |1⟩\n",
    "X_ket_one = ket_one.evolve(X)                           # |1⟩ becomes |0⟩\n",
    "X_ket_plus = ket_plus.evolve(X)                         # |+⟩ stays as |+⟩\n",
    "X_ket_minus = ket_minus.evolve(X)                       # |-⟩ becomes -|-⟩\n",
    "\n",
    "display(X_ket_zero.draw('latex'))\n",
    "display(X_ket_one.draw('latex'))\n",
    "display(X_ket_plus.draw('latex'))\n",
    "display(X_ket_minus.draw('latex'))"
   ]
  },
  {
   "cell_type": "markdown",
   "id": "5aba9066",
   "metadata": {},
   "source": [
    "The results are therefore as follows, treating each state vector an input `|ψ⟩`:\n",
    "\n",
    "| \\|ψ⟩ | X(\\|ψ⟩) |\n",
    "|-----------|-----------|\n",
    "| \\|0⟩ | \\|1⟩ |\n",
    "| \\|1⟩ | \\|0⟩ |\n",
    "| \\|+⟩ | \\|+⟩ |\n",
    "| \\|-⟩ | -\\|-⟩ |"
   ]
  },
  {
   "cell_type": "markdown",
   "id": "a5c5f63a",
   "metadata": {},
   "source": [
    "## Hadamard operation"
   ]
  },
  {
   "cell_type": "markdown",
   "id": "1172a80b",
   "metadata": {},
   "source": [
    "The [Hadamard operation][H] (or gate), `H`, is defined by the matrix:\n",
    "\n",
    "$$\\frac{1}{\\sqrt{2}}\\begin{bmatrix}\n",
    "   1 & 1 \\\\\n",
    "   1 & -1\n",
    "\\end{bmatrix}$$\n",
    "\n",
    "It performs a rotation of π of the state vector around the axis $$(\\hat{x}+\\hat{z})/\\sqrt{2}$$ at the [Bloch sphere].\n",
    "\n",
    "This is again easily implemented in Qiskit:\n",
    "\n",
    "[H]: https://en.wikipedia.org/wiki/Quantum_logic_gate#Hadamard_gate\n",
    "[Bloch sphere]: https://en.wikipedia.org/wiki/Bloch_sphere"
   ]
  },
  {
   "cell_type": "code",
   "execution_count": 3,
   "id": "e293c3e9",
   "metadata": {},
   "outputs": [
    {
     "data": {
      "text/latex": [
       "$$\n",
       "\n",
       "\\begin{bmatrix}\n",
       "\\frac{\\sqrt{2}}{2} & \\frac{\\sqrt{2}}{2}  \\\\\n",
       " \\frac{\\sqrt{2}}{2} & - \\frac{\\sqrt{2}}{2}  \\\\\n",
       " \\end{bmatrix}\n",
       "$$"
      ],
      "text/plain": [
       "<IPython.core.display.Latex object>"
      ]
     },
     "metadata": {},
     "output_type": "display_data"
    }
   ],
   "source": [
    "H = 1/sqrt(2) * Operator([[1, 1], [1, -1]])\n",
    "display(H.draw('latex'))"
   ]
  },
  {
   "cell_type": "markdown",
   "id": "88798bea",
   "metadata": {},
   "source": [
    "If we apply `H` to the state vectors defined previously, we get the outputs in the table below.\n",
    "\n",
    "| \\|ψ⟩ | H(\\|ψ⟩) |\n",
    "|-----------|-----------|\n",
    "| \\|0⟩ | \\|+⟩ |\n",
    "| \\|1⟩ | \\|-⟩ |\n",
    "| \\|+⟩ | \\|0⟩ |\n",
    "| \\|-⟩ | \\|1⟩ |"
   ]
  },
  {
   "cell_type": "markdown",
   "id": "c5392109",
   "metadata": {},
   "source": [
    "## S operation"
   ]
  },
  {
   "cell_type": "markdown",
   "id": "e2d12b96",
   "metadata": {},
   "source": [
    "The S operation (or gate), `S`, is a [phase shift gate][P] with a phase shift of π/2. It therefore has the matrix:\n",
    "\n",
    "$$\\begin{bmatrix}\n",
    "   1 & 0 \\\\\n",
    "   0 & i\n",
    "\\end{bmatrix}$$\n",
    "\n",
    "\n",
    "\n",
    "[P]: https://en.wikipedia.org/wiki/Quantum_logic_gate#Phase_shift_gates"
   ]
  }
 ],
 "metadata": {
  "kernelspec": {
   "display_name": ".venv313",
   "language": "python",
   "name": "python3"
  },
  "language_info": {
   "codemirror_mode": {
    "name": "ipython",
    "version": 3
   },
   "file_extension": ".py",
   "mimetype": "text/x-python",
   "name": "python",
   "nbconvert_exporter": "python",
   "pygments_lexer": "ipython3",
   "version": "3.13.2"
  }
 },
 "nbformat": 4,
 "nbformat_minor": 5
}
