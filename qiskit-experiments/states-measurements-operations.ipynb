{
 "cells": [
  {
   "cell_type": "markdown",
   "id": "1501b759",
   "metadata": {},
   "source": [
    "This notebook demonstrates how to simulate quantum states, measurements and operations in Qiskit. It follows [the tutorial](https://learning.quantum.ibm.com/course/basics-of-quantum-information/single-systems#states-measurements-and-operations) at the end of [Lesson 01 (Single Systems)](https://learning.quantum.ibm.com/course/basics-of-quantum-information/single-systems).\n",
    "\n",
    "Firstly, we'll import the relevant libraries and define some state vectors."
   ]
  },
  {
   "cell_type": "code",
   "execution_count": 23,
   "id": "4688099d",
   "metadata": {},
   "outputs": [],
   "source": [
    "from qiskit.quantum_info import Statevector\n",
    "from numpy import sqrt"
   ]
  },
  {
   "cell_type": "markdown",
   "id": "bc22ccd6",
   "metadata": {},
   "source": [
    "## State vectors\n",
    "We can create quantum state vectors easily using Qiskit's `Statevector` class."
   ]
  },
  {
   "cell_type": "code",
   "execution_count": 24,
   "id": "1df25f9b",
   "metadata": {},
   "outputs": [],
   "source": [
    "u = Statevector([1 / sqrt(2), 1 / sqrt(2)])  # (This is the |+⟩ ('ket plus') state vector.)\n",
    "v = Statevector([(1 + 2.0j) / 3, -2 / 3])\n",
    "w = Statevector([1 / 3, 2 / 3])"
   ]
  },
  {
   "cell_type": "markdown",
   "id": "4cc93fa4",
   "metadata": {},
   "source": [
    "We can display these state vectors as a single line, in more easily readable LaTeX format, or as LaTeX source code. For example, we can display the `u` state vector in all three ways:"
   ]
  },
  {
   "cell_type": "code",
   "execution_count": 25,
   "id": "facde55a",
   "metadata": {},
   "outputs": [
    {
     "data": {
      "text/plain": [
       "[0.70710678+0.j,0.70710678+0.j]"
      ]
     },
     "metadata": {},
     "output_type": "display_data"
    },
    {
     "data": {
      "text/latex": [
       "$$\\frac{\\sqrt{2}}{2} |0\\rangle+\\frac{\\sqrt{2}}{2} |1\\rangle$$"
      ],
      "text/plain": [
       "<IPython.core.display.Latex object>"
      ]
     },
     "metadata": {},
     "output_type": "display_data"
    },
    {
     "name": "stdout",
     "output_type": "stream",
     "text": [
      "\\frac{\\sqrt{2}}{2} |0\\rangle+\\frac{\\sqrt{2}}{2} |1\\rangle\n"
     ]
    }
   ],
   "source": [
    "display(u.draw(\"text\"))\n",
    "display(u.draw(\"latex\"))\n",
    "print(u.draw(\"latex_source\"))"
   ]
  },
  {
   "cell_type": "markdown",
   "id": "dd00190c",
   "metadata": {},
   "source": [
    "We can also check whether a state vector is valid by calling the `Statevector.is_valid()` method on it. Remember that the criterion for a state vector to be valid is that its Euclidean norm equals 1."
   ]
  },
  {
   "cell_type": "code",
   "execution_count": 26,
   "id": "f26ee88e",
   "metadata": {},
   "outputs": [
    {
     "data": {
      "text/plain": [
       "True"
      ]
     },
     "metadata": {},
     "output_type": "display_data"
    },
    {
     "data": {
      "text/plain": [
       "False"
      ]
     },
     "metadata": {},
     "output_type": "display_data"
    }
   ],
   "source": [
    "display(u.is_valid())  # u is a valid state vector\n",
    "display(w.is_valid())  # w is not a valid state vector"
   ]
  },
  {
   "cell_type": "markdown",
   "id": "89114192",
   "metadata": {},
   "source": [
    "## Measurements\n",
    "We can use the `Statevector.measure()` method to perform a measurement on a state vector. For example, for the state vector `v` that we defined previously,"
   ]
  },
  {
   "cell_type": "code",
   "execution_count": 27,
   "id": "f589b07d",
   "metadata": {},
   "outputs": [
    {
     "data": {
      "text/latex": [
       "$$(\\frac{1}{3} + \\frac{2 i}{3}) |0\\rangle- \\frac{2}{3} |1\\rangle$$"
      ],
      "text/plain": [
       "<IPython.core.display.Latex object>"
      ]
     },
     "metadata": {},
     "output_type": "display_data"
    }
   ],
   "source": [
    "display(v.draw(\"latex\"))"
   ]
  },
  {
   "cell_type": "markdown",
   "id": "32a4ca67",
   "metadata": {},
   "source": [
    "we can measure it as follows:"
   ]
  },
  {
   "cell_type": "code",
   "execution_count": 28,
   "id": "eeed76b8",
   "metadata": {},
   "outputs": [
    {
     "name": "stdout",
     "output_type": "stream",
     "text": [
      "Measured: 0\n",
      "Post-measurement state:\n"
     ]
    },
    {
     "data": {
      "text/latex": [
       "$$(\\frac{\\sqrt{5}}{5} + \\frac{2 \\sqrt{5} i}{5}) |0\\rangle$$"
      ],
      "text/plain": [
       "<IPython.core.display.Latex object>"
      ]
     },
     "metadata": {},
     "output_type": "display_data"
    }
   ],
   "source": [
    "outcome, state = v.measure()\n",
    "print(f\"Measured: {outcome}\\nPost-measurement state:\")\n",
    "display(state.draw(\"latex\"))"
   ]
  },
  {
   "cell_type": "markdown",
   "id": "27fe68fe",
   "metadata": {},
   "source": [
    "Note that, because measurement outcomes are probabilistic, the `measure()` method can return different results when run multiple times. You can see this for yourself by running the code cell above a few times. The output is either $$(\\frac{\\sqrt{5}}{5} + \\frac{2 \\sqrt{5} i}{5}) |0\\rangle$$ or $$|1\\rangle$$\n",
    "\n",
    "We can also use the `sample_counts()` method on `Statevector` to run a measurement multiple times to show how the output is probabilistic. We can then plot the results of these runs using `plot_histogram()` from qiskit's `visualization` library:"
   ]
  },
  {
   "cell_type": "code",
   "execution_count": 29,
   "id": "4cd49ddd",
   "metadata": {},
   "outputs": [
    {
     "data": {
      "image/png": "[encoded data removed]",
      "text/plain": [
       "<Figure size 640x480 with 1 Axes>"
      ]
     },
     "execution_count": 29,
     "metadata": {},
     "output_type": "execute_result"
    }
   ],
   "source": [
    "from qiskit.visualization import plot_histogram\n",
    "\n",
    "statistics = v.sample_counts(1000)\n",
    "plot_histogram(statistics)"
   ]
  }
 ],
 "metadata": {
  "kernelspec": {
   "display_name": ".venv313",
   "language": "python",
   "name": "python3"
  },
  "language_info": {
   "codemirror_mode": {
    "name": "ipython",
    "version": 3
   },
   "file_extension": ".py",
   "mimetype": "text/x-python",
   "name": "python",
   "nbconvert_exporter": "python",
   "pygments_lexer": "ipython3",
   "version": "3.13.2"
  }
 },
 "nbformat": 4,
 "nbformat_minor": 5
}
